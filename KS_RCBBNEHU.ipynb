{
 "cells": [
  {
   "cell_type": "markdown",
   "source": [
    "__PyScript 1:__ Nucleotide count and GC content"
   ],
   "metadata": {}
  },
  {
   "cell_type": "code",
   "execution_count": 5,
   "source": [
    "#gc() takes any nucleotide sequence as input and returns its ATGC count and GC content\r\n",
    "def gc(seq):\r\n",
    "    '''return ATGC count and GC content in given sequence''' \r\n",
    "    import re\r\n",
    "    #case typed to upper irrespective of input case\r\n",
    "    seq_up = seq.upper()\r\n",
    "    #checking for any contaminant base, i.e., anything except ATGCU\r\n",
    "    check = re.search('[^ATGCU]',seq_up)\r\n",
    "    if check:\r\n",
    "        return 'incorrect input,', 'please recheck input!'\r\n",
    "    else:\r\n",
    "        nt_count = {i:seq_up.count(i) for i in seq_up}\r\n",
    "        gc_content = ((nt_count['G']+nt_count['C'])/sum(nt_count.values()))*100\r\n",
    "        return nt_count,round(gc_content,4)"
   ],
   "outputs": [],
   "metadata": {}
  },
  {
   "cell_type": "code",
   "execution_count": 2,
   "source": [
    "#testing the function\r\n",
    "m,n = gc('atgc')\r\n",
    "print(m,n)\r\n",
    "\r\n",
    "x,y = gc('attgcggcatgacaggtctgcagtaaagtcctg')\r\n",
    "print(x,y)\r\n",
    "\r\n",
    "s,t = gc('attgcvccagttcca')\r\n",
    "print(s,t)"
   ],
   "outputs": [
    {
     "output_type": "stream",
     "name": "stdout",
     "text": [
      "{'A': 1, 'T': 1, 'G': 1, 'C': 1} 50.0\n",
      "{'A': 8, 'T': 8, 'G': 10, 'C': 7} 51.5152\n",
      "incorrect input, please recheck input!\n"
     ]
    }
   ],
   "metadata": {}
  },
  {
   "cell_type": "markdown",
   "source": [
    "__PyScript 2:__ Transcription"
   ],
   "metadata": {}
  },
  {
   "cell_type": "code",
   "execution_count": 3,
   "source": [
    "#transcription() takes coding starand as an input and converts it to the transcribed RNA seq\r\n",
    "def transcription(seq):\r\n",
    "    '''this function takes coding strand as argument and transcribed to corresponding RNA'''\r\n",
    "    import re\r\n",
    "    dna = seq.upper()\r\n",
    "    check = re.search('[^ATGCU]',dna)\r\n",
    "    if check:\r\n",
    "        return 'incorrect input, please recheck!'\r\n",
    "    #replacing Ts with Us convert a DNA string to RNA\r\n",
    "    else:\r\n",
    "        rna = dna.replace('T','U')\r\n",
    "        return rna"
   ],
   "outputs": [],
   "metadata": {}
  },
  {
   "cell_type": "code",
   "execution_count": 4,
   "source": [
    "#testing the function\r\n",
    "dna = 'attgcgt'\r\n",
    "mrna = transcription(dna)\r\n",
    "print(mrna)\r\n",
    "\r\n",
    "dna1 =  'attgcgcgxtggacccagacatgcacgtca'\r\n",
    "mrna1 = transcription(dna1)\r\n",
    "print(mrna1)"
   ],
   "outputs": [
    {
     "output_type": "stream",
     "name": "stdout",
     "text": [
      "AUUGCGU\n",
      "incorrect input, please recheck!\n"
     ]
    }
   ],
   "metadata": {}
  },
  {
   "cell_type": "markdown",
   "source": [
    "__PyScript 3:__ Translation"
   ],
   "metadata": {}
  },
  {
   "cell_type": "code",
   "execution_count": 5,
   "source": [
    "#translation() converts an mRNA to its corresponding protein\r\n",
    "def translation(seq):\r\n",
    "    '''it takes RNA seq as argument and convert it to coresponding protein'''\r\n",
    "    import re\r\n",
    "    rna = seq.upper()\r\n",
    "    check = re.search('[^AGCU]',rna)\r\n",
    "    if check:\r\n",
    "        return 'incorrect input, please recheck!'\r\n",
    "    else:\r\n",
    "        codons = {\"UUU\" : \"F\",\"CUU\" : \"L\",\"AUU\" : \"I\",\"GUU\" : \"V\",\r\n",
    "        \"UUC\" : \"F\",\"CUC\" : \"L\",\"AUC\" : \"I\",\"GUC\" : \"V\",\"UUA\" : \"L\",\r\n",
    "        \"CUA\" : \"L\",\"AUA\" : \"I\",\"GUA\" : \"V\",\"UUG\" : \"L\",\"CUG\" : \"L\",\r\n",
    "        \"AUG\" : \"M\",\"GUG\" : \"V\",\"UCU\" : \"S\",\"CCU\" : \"P\",\"ACU\" : \"T\",\r\n",
    "        \"GCU\" : \"A\",\"UCC\" : \"S\",\"CCC\" : \"P\",\"ACC\" : \"T\",\"GCC\" : \"A\",\r\n",
    "        \"UCA\" : \"S\",\"CCA\" : \"P\",\"ACA\" : \"T\",\"GCA\" : \"A\",\"UCG\" : \"S\",\r\n",
    "        \"CCG\" : \"P\",\"ACG\" : \"T\",\"GCG\" : \"A\",\"UAU\" : \"Y\",\"CAU\" : \"H\",\r\n",
    "        \"AAU\" : \"N\",\"GAU\" : \"D\",\"UAC\" : \"Y\",\"CAC\" : \"H\",\"AAC\" : \"N\",\r\n",
    "        \"GAC\" : \"D\",\"UAA\" : \"Stop\",\"CAA\" : \"Q\",\"AAA\" : \"K\",\"GAA\" : \"E\",\r\n",
    "        \"UAG\" : \"Stop\",\"CAG\" : \"Q\",\"AAG\" : \"K\",\"GAG\" : \"E\",\"UGU\" : \"C\",\r\n",
    "        \"CGU\" : \"R\",\"AGU\" : \"S\",\"GGU\" : \"G\",\"UGC\" : \"C\",\"CGC\" : \"R\",\r\n",
    "        \"AGC\" : \"S\",\"GGC\" : \"G\",\"UGA\" : \"Stop\",\"CGA\" : \"R\",\"AGA\" : \"R\",\r\n",
    "        \"GGA\" : \"G\",\"UGG\" : \"W\",\"CGG\" : \"R\",\"AGG\" : \"R\",\"GGG\" : \"G\"}\r\n",
    "\r\n",
    "        mrna2codon = [rna[i:i+3] for i in range(0,len(rna),3)]\r\n",
    "        aa = []\r\n",
    "        for codon in mrna2codon:\r\n",
    "            if codon == 'UAA' or codon == 'UGA' or codon == 'UAG':\r\n",
    "                break\r\n",
    "            else:\r\n",
    "                aa.append(codons[codon])                \r\n",
    "        protein = ''.join(aa)\r\n",
    "        return protein  "
   ],
   "outputs": [],
   "metadata": {}
  },
  {
   "cell_type": "code",
   "execution_count": 6,
   "source": [
    "#testing the function\r\n",
    "mrna = 'gguggugguuguugcgua'\r\n",
    "prot = translation(mrna)\r\n",
    "print(prot)\r\n",
    "\r\n",
    "rna1 = 'gguggugguuguugcUAAgua'\r\n",
    "prot1 = translation(rna1)\r\n",
    "print(prot1)\r\n",
    "\r\n",
    "rna2 = 'gguggugguuguuggTgua'\r\n",
    "prot2 = translation(rna2)\r\n",
    "print(prot2)"
   ],
   "outputs": [
    {
     "output_type": "stream",
     "name": "stdout",
     "text": [
      "GGGCCV\n",
      "GGGCC\n",
      "incorrect input, please recheck!\n"
     ]
    }
   ],
   "metadata": {}
  },
  {
   "cell_type": "markdown",
   "source": [
    "__PyScript 4:__ Protein mass calculator"
   ],
   "metadata": {}
  },
  {
   "cell_type": "code",
   "execution_count": 7,
   "source": [
    "\r\n",
    "#prot_mass() calculates the input peptide's molecular mass\r\n",
    "def prot_mass(prot):\r\n",
    "    '''it takes single letter coded peptide sequence and returns its mass'''\r\n",
    "    import re\r\n",
    "    protein = prot.upper()\r\n",
    "    check = re.search('[^ACDEFGHIKLMNPQRSTVWY]',protein)\r\n",
    "    if check:\r\n",
    "        return 'incorrect input, please recheck!'\r\n",
    "    else:\r\n",
    "        protein_mass_table = {'A': 71.03711,'C': 103.00919,\r\n",
    "        'D': 115.02694,'E': 129.04259,'F': 147.06841,'G': 57.02146,\r\n",
    "        'H': 137.05891,'I': 113.08406,'K': 128.09496,'L': 113.08406,\r\n",
    "        'M': 131.04049,'N': 114.04293,'P': 97.05276,'Q': 128.05858,\r\n",
    "        'R': 156.10111,'S': 87.03203,'T': 101.04768,'V': 99.06841,\r\n",
    "        'W': 186.07931,'Y': 163.06333}\r\n",
    "        \r\n",
    "        protein_mass = 0\r\n",
    "        for aa in protein:\r\n",
    "            protein_mass += protein_mass_table[aa]\r\n",
    "        return round(protein_mass,5)       "
   ],
   "outputs": [],
   "metadata": {}
  },
  {
   "cell_type": "code",
   "execution_count": 8,
   "source": [
    "#testing the function\r\n",
    "peptide = 'GGGCCV'\r\n",
    "mass = prot_mass(peptide)\r\n",
    "print(mass)\r\n",
    "\r\n",
    "peptide1 = 'GGGCCxV'\r\n",
    "mass = prot_mass(peptide1)\r\n",
    "print(mass)"
   ],
   "outputs": [
    {
     "output_type": "stream",
     "name": "stdout",
     "text": [
      "476.15117\n",
      "incorrect input, please recheck!\n"
     ]
    }
   ],
   "metadata": {}
  },
  {
   "cell_type": "markdown",
   "source": [
    "__PyScript 5:__ Inferring possible mRNA number from protein sequence"
   ],
   "metadata": {}
  },
  {
   "cell_type": "code",
   "execution_count": 9,
   "source": [
    "#prot2mrna() calculates the all the possible number of mRNA inferred from peptide sequence\r\n",
    "def prot2mrna(prot):\r\n",
    "    '''this function will return total possile mRNA based \r\n",
    "    on the supplied protein sequence'''\r\n",
    "    import re\r\n",
    "    protein = prot.upper()\r\n",
    "    check = re.search('[^ACDEFGHIKLMNPQRSTVWY]',protein)\r\n",
    "    if check:\r\n",
    "        return 'incorrect input, please recheck!'\r\n",
    "    else:\r\n",
    "        codons = {\"UUU\" : \"F\",\"CUU\" : \"L\",\"AUU\" : \"I\",\"GUU\" : \"V\",\r\n",
    "                \"UUC\" : \"F\",\"CUC\" : \"L\",\"AUC\" : \"I\",\"GUC\" : \"V\",\"UUA\" : \"L\",\r\n",
    "                \"CUA\" : \"L\",\"AUA\" : \"I\",\"GUA\" : \"V\",\"UUG\" : \"L\",\"CUG\" : \"L\",\r\n",
    "                \"AUG\" : \"M\",\"GUG\" : \"V\",\"UCU\" : \"S\",\"CCU\" : \"P\",\"ACU\" : \"T\",\r\n",
    "                \"GCU\" : \"A\",\"UCC\" : \"S\",\"CCC\" : \"P\",\"ACC\" : \"T\",\"GCC\" : \"A\",\r\n",
    "                \"UCA\" : \"S\",\"CCA\" : \"P\",\"ACA\" : \"T\",\"GCA\" : \"A\",\"UCG\" : \"S\",\r\n",
    "                \"CCG\" : \"P\",\"ACG\" : \"T\",\"GCG\" : \"A\",\"UAU\" : \"Y\",\"CAU\" : \"H\",\r\n",
    "                \"AAU\" : \"N\",\"GAU\" : \"D\",\"UAC\" : \"Y\",\"CAC\" : \"H\",\"AAC\" : \"N\",\r\n",
    "                \"GAC\" : \"D\",\"UAA\" : \"Stop\",\"CAA\" : \"Q\",\"AAA\" : \"K\",\"GAA\" : \"E\",\r\n",
    "                \"UAG\" : \"Stop\",\"CAG\" : \"Q\",\"AAG\" : \"K\",\"GAG\" : \"E\",\"UGU\" : \"C\",\r\n",
    "                \"CGU\" : \"R\",\"AGU\" : \"S\",\"GGU\" : \"G\",\"UGC\" : \"C\",\"CGC\" : \"R\",\r\n",
    "                \"AGC\" : \"S\",\"GGC\" : \"G\",\"UGA\" : \"Stop\",\"CGA\" : \"R\",\"AGA\" : \"R\",\r\n",
    "                \"GGA\" : \"G\",\"UGG\" : \"W\",\"CGG\" : \"R\",\"AGG\" : \"R\",\"GGG\" : \"G\"}\r\n",
    "        DegeneracyCodon = {}\r\n",
    "        for k,v in codons.items():\r\n",
    "            if v not in DegeneracyCodon:\r\n",
    "                DegeneracyCodon.update({v:[k]})\r\n",
    "            elif v in DegeneracyCodon:\r\n",
    "                DegeneracyCodon[v].append(k)\r\n",
    "\r\n",
    "        maxMrnNo = 3 #3 for stop codon degeneracy\r\n",
    "        for aa in prot:\r\n",
    "            #neglecting any error or new line characters in input\r\n",
    "            maxMrnNo *= len(DegeneracyCodon.get(aa,'x')) \r\n",
    "        return maxMrnNo"
   ],
   "outputs": [],
   "metadata": {}
  },
  {
   "cell_type": "code",
   "execution_count": 10,
   "source": [
    "#testing the function\r\n",
    "peptide2 = 'GGGCCV'\r\n",
    "inferred_mrna = prot2mrna(peptide2)\r\n",
    "print(inferred_mrna)\r\n",
    "\r\n",
    "peptide3 = 'GGGCXCV'\r\n",
    "inferred_mrna1 = prot2mrna(peptide3)\r\n",
    "print(inferred_mrna1)"
   ],
   "outputs": [
    {
     "output_type": "stream",
     "name": "stdout",
     "text": [
      "3072\n",
      "incorrect input, please recheck!\n"
     ]
    }
   ],
   "metadata": {}
  },
  {
   "cell_type": "markdown",
   "source": [
    "__PyScript 6:__ Inferring gene location from spliced mRNA"
   ],
   "metadata": {}
  },
  {
   "cell_type": "code",
   "execution_count": 11,
   "source": [
    "#gene_tracker() tracks the probale position of exons on DNA starting from spliced mRNA\r\n",
    "def gene_tracker(seq,m):\r\n",
    "    '''function consider first positional argument as the DNA seq within which it search\r\n",
    "    for the motif, which is supplied as the second positional argument. It returns the \r\n",
    "    position of every motif character of the first motif it found'''\r\n",
    "    import re\r\n",
    "    dna = seq.upper()\r\n",
    "    motif = m.upper()\r\n",
    "    check = re.search('[^ATGC]',dna)\r\n",
    "    check1 = re.search('[^ATGC]',m)\r\n",
    "    if check or check1:\r\n",
    "        #this conditional statement checks wheather both the supplied motifs are in order\r\n",
    "        return 'incorrect input, please recheck!'\r\n",
    "    else:\r\n",
    "        indices = []\r\n",
    "        w = 0\r\n",
    "        x = len(dna)\r\n",
    "        for i in motif:        \r\n",
    "            for j in range(w,x):        \r\n",
    "                if dna[j] == i:            \r\n",
    "                    indices.append(j+1)\r\n",
    "                    w = j+1            \r\n",
    "                    break        \r\n",
    "        #mapping int to str so that as join will only accept str as argument\r\n",
    "        return ' '.join(map(str,indices))\r\n",
    "        "
   ],
   "outputs": [],
   "metadata": {}
  },
  {
   "cell_type": "code",
   "execution_count": 12,
   "source": [
    "#testing the function\r\n",
    "s = 'ACGTCGACGTGCG'\r\n",
    "t = 'GTA'\r\n",
    "ind = gene_tracker(s,t)\r\n",
    "print(ind)\r\n",
    "\r\n",
    "s1 = 'ACGxTCGACGTGCG'\r\n",
    "t1 = 'GTA'\r\n",
    "ind1 = gene_tracker(s1,t1)\r\n",
    "print(ind1)\r\n",
    "\r\n",
    "s2 = 'ACGTCGACGTGCG'\r\n",
    "t2 = 'GTxA'\r\n",
    "ind2 = gene_tracker(s2,t2)\r\n",
    "print(ind2)"
   ],
   "outputs": [
    {
     "output_type": "stream",
     "name": "stdout",
     "text": [
      "3 4 7\n",
      "incorrect input, please recheck!\n",
      "incorrect input, please recheck!\n"
     ]
    }
   ],
   "metadata": {}
  },
  {
   "cell_type": "markdown",
   "source": [
    "__PyScript 7:__ ORF finder"
   ],
   "metadata": {}
  },
  {
   "cell_type": "code",
   "execution_count": 13,
   "source": [
    "#ORF finder finds ORFs from any given DNA string\r\n",
    "def ORF_finder(seq):\r\n",
    "    '''this function finds ORFs from a given dna sequence(in fasta format) and returns\r\n",
    "    corresponding protein sequences respecting to each ORF '''\r\n",
    "    import re\r\n",
    "    dna = seq.upper()    \r\n",
    "    check = re.search('[^ATGC]',dna)    \r\n",
    "    if check:\r\n",
    "        return 'incorrect input, please recheck!'\r\n",
    "    else:\r\n",
    "        dna_codon = {'ATA':'I', 'ATC':'I', 'ATT':'I', 'ATG':'M', 'ACA':'T', 'ACC':'T', 'ACG':'T', 'ACT':'T',\r\n",
    "        'AAC':'N', 'AAT':'N', 'AAA':'K', 'AAG':'K', 'AGC':'S', 'AGT':'S', 'AGA':'R', 'AGG':'R',                 \r\n",
    "        'CTA':'L', 'CTC':'L', 'CTG':'L', 'CTT':'L', 'CCA':'P', 'CCC':'P', 'CCG':'P', 'CCT':'P',\r\n",
    "        'CAC':'H', 'CAT':'H', 'CAA':'Q', 'CAG':'Q', 'CGA':'R', 'CGC':'R', 'CGG':'R', 'CGT':'R',\r\n",
    "        'GTA':'V', 'GTC':'V', 'GTG':'V', 'GTT':'V', 'GCA':'A', 'GCC':'A', 'GCG':'A', 'GCT':'A',\r\n",
    "        'GAC':'D', 'GAT':'D', 'GAA':'E', 'GAG':'E', 'GGA':'G', 'GGC':'G', 'GGG':'G', 'GGT':'G',\r\n",
    "        'TCA':'S', 'TCC':'S', 'TCG':'S', 'TCT':'S', 'TTC':'F', 'TTT':'F', 'TTA':'L', 'TTG':'L',\r\n",
    "        'TAC':'Y', 'TAT':'Y', 'TAA':'Stop', 'TAG':'Stop', 'TGC':'C', 'TGT':'C', 'TGA':'Stop', \r\n",
    "        'TGG':'W'}\r\n",
    "\r\n",
    "        cbp = {'A':'T','G':'C','T':'A','C':'G'}\r\n",
    "        #creating and orienting complementary strand to the supplied seq\r\n",
    "        complmnt_dna = ''.join([cbp[i] for i in dna][::-1])\r\n",
    "\r\n",
    "        #finding the indexes of start codons in both strand\r\n",
    "        sc_coding = [i.start() for i in re.finditer('(?=ATG)', dna)]\r\n",
    "        sc_templet = [i.start() for  i in re.finditer('(?=ATG)', complmnt_dna)]\r\n",
    "\r\n",
    "        protein_coding = []\r\n",
    "        for i in sc_coding:\r\n",
    "            pro_seq = ''\r\n",
    "            for j in range(i,len(dna)-3+1,3):        \r\n",
    "                if dna_codon[dna[j:j+3]] == 'Stop':\r\n",
    "                    break\r\n",
    "                else:\r\n",
    "                    pro_seq += dna_codon[dna[j:j+3]]\r\n",
    "            if len(pro_seq) < len(dna[i:])//3:\r\n",
    "                protein_coding.append(pro_seq)\r\n",
    "\r\n",
    "\r\n",
    "        protein_template = []\r\n",
    "        for i in sc_templet:\r\n",
    "            pro_seq_temp = ''\r\n",
    "            for j in range(i,len(complmnt_dna)-3+1,3):        \r\n",
    "                if dna_codon[complmnt_dna[j:j+3]] == 'Stop':\r\n",
    "                    break\r\n",
    "                else:\r\n",
    "                    pro_seq_temp += dna_codon[complmnt_dna[j:j+3]]\r\n",
    "            '''ensuring program only pick stop codon to define ORF boundary not the end\r\n",
    "            of the supplied sequence.Hence a true ORF size should always be less than\r\n",
    "            the floor division of the supplied sequence'''\r\n",
    "            if len(pro_seq_temp) < len(complmnt_dna[i:])//3:\r\n",
    "                protein_template.append(pro_seq_temp)\r\n",
    "\r\n",
    "        total_proteins_seq = '\\n'.join(set(protein_coding)|set(protein_template))\r\n",
    "        return total_proteins_seq"
   ],
   "outputs": [],
   "metadata": {}
  },
  {
   "cell_type": "code",
   "execution_count": 14,
   "source": [
    "#testing the function\r\n",
    "s = 'GCTCTGGCATTGCAATTTGCCCATCCGGTCAGTTGAATAGGTTAAGCCGCAGTCTTTATCATAATGACGATGGGACCTGATGCAATATCAATGAGCAACC'\r\n",
    "p = ORF_finder(s)\r\n",
    "print(p)\r\n",
    "\r\n",
    "s = 'GCTCTGGCATTGCAATTTGCCCATCCGGTCAGTTGAATAbGGTTAAGCCGCAGTCTTTATCATAATGACGATGGGACCTGATGCAATATCAATGAGCAACC'\r\n",
    "p = ORF_finder(s)\r\n",
    "print(p)\r\n"
   ],
   "outputs": [
    {
     "output_type": "stream",
     "name": "stdout",
     "text": [
      "MIKTAA\n",
      "MQYQ\n",
      "incorrect input, please recheck!\n"
     ]
    }
   ],
   "metadata": {}
  },
  {
   "cell_type": "code",
   "execution_count": 107,
   "source": [
    "import random as r\r\n",
    "x = ''.join(r.choices('ATGC',[1,1,6,6],k=1000))\r\n",
    "print(gc(x))"
   ],
   "outputs": [
    {
     "output_type": "stream",
     "name": "stdout",
     "text": [
      "({'G': 428, 'C': 433, 'T': 70, 'A': 69}, 86.1)\n"
     ]
    }
   ],
   "metadata": {}
  }
 ],
 "metadata": {
  "interpreter": {
   "hash": "e6bd8762cb7df43cb0a35c6defe78bfce43dd0807bc4a85293e08162035dec97"
  },
  "kernelspec": {
   "display_name": "Python 3",
   "language": "python",
   "name": "python3"
  },
  "language_info": {
   "codemirror_mode": {
    "name": "ipython",
    "version": 3
   },
   "file_extension": ".py",
   "mimetype": "text/x-python",
   "name": "python",
   "nbconvert_exporter": "python",
   "pygments_lexer": "ipython3",
   "version": "3.9.5"
  }
 },
 "nbformat": 4,
 "nbformat_minor": 2
}